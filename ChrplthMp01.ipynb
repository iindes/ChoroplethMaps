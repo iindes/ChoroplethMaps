{
 "cells": [
  {
   "cell_type": "markdown",
   "metadata": {},
   "source": [
    "### GeoJSON with feature.id"
   ]
  },
  {
   "cell_type": "code",
   "execution_count": 1,
   "metadata": {},
   "outputs": [],
   "source": [
    "from urllib.request import urlopen"
   ]
  },
  {
   "cell_type": "code",
   "execution_count": 2,
   "metadata": {},
   "outputs": [],
   "source": [
    "import json"
   ]
  },
  {
   "cell_type": "code",
   "execution_count": 3,
   "metadata": {},
   "outputs": [],
   "source": [
    "with urlopen('https://raw.githubusercontent.com/plotly/datasets/master/geojson-counties-fips.json') as response:\n",
    "    counties = json.load(response)"
   ]
  },
  {
   "cell_type": "code",
   "execution_count": 4,
   "metadata": {},
   "outputs": [
    {
     "data": {
      "text/plain": [
       "{'type': 'Feature',\n",
       " 'properties': {'GEO_ID': '0500000US01001',\n",
       "  'STATE': '01',\n",
       "  'COUNTY': '001',\n",
       "  'NAME': 'Autauga',\n",
       "  'LSAD': 'County',\n",
       "  'CENSUSAREA': 594.436},\n",
       " 'geometry': {'type': 'Polygon',\n",
       "  'coordinates': [[[-86.496774, 32.344437],\n",
       "    [-86.717897, 32.402814],\n",
       "    [-86.814912, 32.340803],\n",
       "    [-86.890581, 32.502974],\n",
       "    [-86.917595, 32.664169],\n",
       "    [-86.71339, 32.661732],\n",
       "    [-86.714219, 32.705694],\n",
       "    [-86.413116, 32.707386],\n",
       "    [-86.411172, 32.409937],\n",
       "    [-86.496774, 32.344437]]]},\n",
       " 'id': '01001'}"
      ]
     },
     "execution_count": 4,
     "metadata": {},
     "output_type": "execute_result"
    }
   ],
   "source": [
    "counties[\"features\"][0]"
   ]
  },
  {
   "cell_type": "code",
   "execution_count": null,
   "metadata": {},
   "outputs": [],
   "source": []
  }
 ],
 "metadata": {
  "kernelspec": {
   "display_name": "Python 3",
   "language": "python",
   "name": "python3"
  },
  "language_info": {
   "codemirror_mode": {
    "name": "ipython",
    "version": 3
   },
   "file_extension": ".py",
   "mimetype": "text/x-python",
   "name": "python",
   "nbconvert_exporter": "python",
   "pygments_lexer": "ipython3",
   "version": "3.7.6"
  }
 },
 "nbformat": 4,
 "nbformat_minor": 4
}
