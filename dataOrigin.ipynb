{
 "cells": [
  {
   "cell_type": "code",
   "execution_count": 1,
   "metadata": {},
   "outputs": [
    {
     "name": "stdout",
     "output_type": "stream",
     "text": [
      "absolute_import\n",
      "carshare\n",
      "election\n",
      "election_geojson\n",
      "experiment\n",
      "gapminder\n",
      "iris\n",
      "medals_long\n",
      "medals_wide\n",
      "stocks\n",
      "tips\n",
      "wind\n"
     ]
    }
   ],
   "source": [
    "import plotly.express as px\n",
    "\n",
    "for name in dir(px.data):\n",
    "    if '__' not in name:\n",
    "        print(name)"
   ]
  },
  {
   "cell_type": "code",
   "execution_count": 7,
   "metadata": {},
   "outputs": [
    {
     "name": "stdout",
     "output_type": "stream",
     "text": [
      "    direction strength  frequency\n",
      "0           N      0-1        0.5\n",
      "1         NNE      0-1        0.6\n",
      "2          NE      0-1        0.5\n",
      "3         ENE      0-1        0.4\n",
      "4           E      0-1        0.4\n",
      "..        ...      ...        ...\n",
      "123       WSW       6+        0.1\n",
      "124         W       6+        0.9\n",
      "125       WNW       6+        2.2\n",
      "126        NW       6+        1.5\n",
      "127       NNW       6+        0.2\n",
      "\n",
      "[128 rows x 3 columns]\n"
     ]
    }
   ],
   "source": [
    "\"\"\"print(px.data.carshare())\n",
    "print(px.data.election())\n",
    "print(px.data.election_geojson())\n",
    "print(px.data.experiment())\n",
    "print(px.data.gapminder())\n",
    "print(px.data.iris())\n",
    "print(px.data.medals_long())\n",
    "print(px.data.medals_wide())\n",
    "print(px.data.stocks())\n",
    "print(px.data.tips())\n",
    "print(px.data.wind())\"\"\"\n",
    "print(px.data.wind())"
   ]
  },
  {
   "cell_type": "code",
   "execution_count": null,
   "metadata": {},
   "outputs": [],
   "source": []
  }
 ],
 "metadata": {
  "kernelspec": {
   "display_name": "Python 3",
   "language": "python",
   "name": "python3"
  },
  "language_info": {
   "codemirror_mode": {
    "name": "ipython",
    "version": 3
   },
   "file_extension": ".py",
   "mimetype": "text/x-python",
   "name": "python",
   "nbconvert_exporter": "python",
   "pygments_lexer": "ipython3",
   "version": "3.7.6"
  }
 },
 "nbformat": 4,
 "nbformat_minor": 4
}
